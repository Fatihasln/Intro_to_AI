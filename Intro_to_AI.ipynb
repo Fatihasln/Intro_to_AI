{
  "nbformat": 4,
  "nbformat_minor": 0,
  "metadata": {
    "colab": {
      "provenance": [],
      "authorship_tag": "ABX9TyOS4wMW/WXhJbIDSVvYuBXM",
      "include_colab_link": true
    },
    "kernelspec": {
      "name": "python3",
      "display_name": "Python 3"
    },
    "language_info": {
      "name": "python"
    }
  },
  "cells": [
    {
      "cell_type": "markdown",
      "metadata": {
        "id": "view-in-github",
        "colab_type": "text"
      },
      "source": [
        "<a href=\"https://colab.research.google.com/github/Fatihasln/Capstone_Project_RFM/blob/main/Intro_to_AI.ipynb\" target=\"_parent\"><img src=\"https://colab.research.google.com/assets/colab-badge.svg\" alt=\"Open In Colab\"/></a>"
      ]
    },
    {
      "cell_type": "code",
      "execution_count": 1,
      "metadata": {
        "colab": {
          "base_uri": "https://localhost:8080/"
        },
        "id": "2wFLMvinLgzU",
        "outputId": "66a85000-ef4f-48a8-acd3-c0917aa2344a"
      },
      "outputs": [
        {
          "output_type": "stream",
          "name": "stdout",
          "text": [
            "Collecting openai\n",
            "  Downloading openai-1.35.13-py3-none-any.whl (328 kB)\n",
            "\u001b[?25l     \u001b[90m━━━━━━━━━━━━━━━━━━━━━━━━━━━━━━━━━━━━━━━━\u001b[0m \u001b[32m0.0/328.5 kB\u001b[0m \u001b[31m?\u001b[0m eta \u001b[36m-:--:--\u001b[0m\r\u001b[2K     \u001b[91m━━━━━━━━━━━━━━━━━━\u001b[0m\u001b[91m╸\u001b[0m\u001b[90m━━━━━━━━━━━━━━━━━━━━━\u001b[0m \u001b[32m153.6/328.5 kB\u001b[0m \u001b[31m4.9 MB/s\u001b[0m eta \u001b[36m0:00:01\u001b[0m\r\u001b[2K     \u001b[91m━━━━━━━━━━━━━━━━━━━━━━━━━━━━━━━━━━━━━━━\u001b[0m\u001b[91m╸\u001b[0m \u001b[32m327.7/328.5 kB\u001b[0m \u001b[31m6.5 MB/s\u001b[0m eta \u001b[36m0:00:01\u001b[0m\r\u001b[2K     \u001b[90m━━━━━━━━━━━━━━━━━━━━━━━━━━━━━━━━━━━━━━━━\u001b[0m \u001b[32m328.5/328.5 kB\u001b[0m \u001b[31m4.5 MB/s\u001b[0m eta \u001b[36m0:00:00\u001b[0m\n",
            "\u001b[?25hRequirement already satisfied: anyio<5,>=3.5.0 in /usr/local/lib/python3.10/dist-packages (from openai) (3.7.1)\n",
            "Requirement already satisfied: distro<2,>=1.7.0 in /usr/lib/python3/dist-packages (from openai) (1.7.0)\n",
            "Collecting httpx<1,>=0.23.0 (from openai)\n",
            "  Downloading httpx-0.27.0-py3-none-any.whl (75 kB)\n",
            "\u001b[2K     \u001b[90m━━━━━━━━━━━━━━━━━━━━━━━━━━━━━━━━━━━━━━━━\u001b[0m \u001b[32m75.6/75.6 kB\u001b[0m \u001b[31m4.3 MB/s\u001b[0m eta \u001b[36m0:00:00\u001b[0m\n",
            "\u001b[?25hRequirement already satisfied: pydantic<3,>=1.9.0 in /usr/local/lib/python3.10/dist-packages (from openai) (2.8.0)\n",
            "Requirement already satisfied: sniffio in /usr/local/lib/python3.10/dist-packages (from openai) (1.3.1)\n",
            "Requirement already satisfied: tqdm>4 in /usr/local/lib/python3.10/dist-packages (from openai) (4.66.4)\n",
            "Requirement already satisfied: typing-extensions<5,>=4.7 in /usr/local/lib/python3.10/dist-packages (from openai) (4.12.2)\n",
            "Requirement already satisfied: idna>=2.8 in /usr/local/lib/python3.10/dist-packages (from anyio<5,>=3.5.0->openai) (3.7)\n",
            "Requirement already satisfied: exceptiongroup in /usr/local/lib/python3.10/dist-packages (from anyio<5,>=3.5.0->openai) (1.2.1)\n",
            "Requirement already satisfied: certifi in /usr/local/lib/python3.10/dist-packages (from httpx<1,>=0.23.0->openai) (2024.6.2)\n",
            "Collecting httpcore==1.* (from httpx<1,>=0.23.0->openai)\n",
            "  Downloading httpcore-1.0.5-py3-none-any.whl (77 kB)\n",
            "\u001b[2K     \u001b[90m━━━━━━━━━━━━━━━━━━━━━━━━━━━━━━━━━━━━━━━━\u001b[0m \u001b[32m77.9/77.9 kB\u001b[0m \u001b[31m5.2 MB/s\u001b[0m eta \u001b[36m0:00:00\u001b[0m\n",
            "\u001b[?25hCollecting h11<0.15,>=0.13 (from httpcore==1.*->httpx<1,>=0.23.0->openai)\n",
            "  Downloading h11-0.14.0-py3-none-any.whl (58 kB)\n",
            "\u001b[2K     \u001b[90m━━━━━━━━━━━━━━━━━━━━━━━━━━━━━━━━━━━━━━━━\u001b[0m \u001b[32m58.3/58.3 kB\u001b[0m \u001b[31m4.8 MB/s\u001b[0m eta \u001b[36m0:00:00\u001b[0m\n",
            "\u001b[?25hRequirement already satisfied: annotated-types>=0.4.0 in /usr/local/lib/python3.10/dist-packages (from pydantic<3,>=1.9.0->openai) (0.7.0)\n",
            "Requirement already satisfied: pydantic-core==2.20.0 in /usr/local/lib/python3.10/dist-packages (from pydantic<3,>=1.9.0->openai) (2.20.0)\n",
            "Installing collected packages: h11, httpcore, httpx, openai\n",
            "Successfully installed h11-0.14.0 httpcore-1.0.5 httpx-0.27.0 openai-1.35.13\n"
          ]
        }
      ],
      "source": [
        "!pip install --upgrade openai"
      ]
    },
    {
      "cell_type": "code",
      "source": [
        "import os\n",
        "from google.colab import userdata\n",
        "\n",
        "os.environ['OPENAI_API_KEY']=userdata.get('OPENAI_API_KEY')"
      ],
      "metadata": {
        "id": "NyIiStRFLuvu"
      },
      "execution_count": 2,
      "outputs": []
    },
    {
      "cell_type": "code",
      "source": [
        "from openai import OpenAI\n",
        "\n",
        "client = OpenAI() # api_key=os.environ['OPENAI_API_KEY']"
      ],
      "metadata": {
        "id": "0CZNaGgpL3RE"
      },
      "execution_count": 3,
      "outputs": []
    },
    {
      "cell_type": "code",
      "source": [
        "system=\"\"\"You are a Microsoft SQL expert. Answer the questions asked to you in the most accurate way.\n",
        "Microsoft SQL tables, with their properties:\n",
        "Employee(id, name, department_id)\n",
        "Department(id, name, address)\n",
        "Sales_amount(id, employee_id, amount, date)\"\"\"\n",
        "\n",
        "user=\"write a query to list the names of employees whose total sales in the last 3 months have been more than 10 thousand EURO.\""
      ],
      "metadata": {
        "id": "rpGhb9JKL8-d"
      },
      "execution_count": 4,
      "outputs": []
    },
    {
      "cell_type": "code",
      "source": [
        "response = client.chat.completions.create(\n",
        "  model=\"gpt-3.5-turbo\", # GPT-3.5-turbo modelinin başa çıkamadığı görevler için GPT-4 modelini kullanabilirsiniz.\n",
        "  messages=[\n",
        "      {\"role\": \"system\", \"content\": f\"{system}\"},\n",
        "      {\"role\": \"user\", \"content\": f\"{user}\"}],\n",
        "  temperature=0,\n",
        "  top_p=1,\n",
        "  max_tokens=500,\n",
        "  presence_penalty=0,\n",
        "  frequency_penalty=0,\n",
        ")"
      ],
      "metadata": {
        "id": "YfG-sJUhMFMH"
      },
      "execution_count": 5,
      "outputs": []
    },
    {
      "cell_type": "code",
      "source": [
        "response\n"
      ],
      "metadata": {
        "colab": {
          "base_uri": "https://localhost:8080/"
        },
        "id": "XI3qBNFHMVom",
        "outputId": "bfbe8637-bb81-4a7f-a5cf-e9294b9cd7ad"
      },
      "execution_count": 6,
      "outputs": [
        {
          "output_type": "execute_result",
          "data": {
            "text/plain": [
              "ChatCompletion(id='chatcmpl-9jkhBkx9bP6Ba5H4ibHD3u9Yewz9N', choices=[Choice(finish_reason='stop', index=0, logprobs=None, message=ChatCompletionMessage(content='To achieve this, we can use a query that calculates the total sales amount for each employee in the last 3 months and then filters out the employees whose total sales are more than 10 thousand EURO. Here is the SQL query:\\n\\n```sql\\nSELECT e.name\\nFROM Employee e\\nJOIN Sales_amount sa ON e.id = sa.employee_id\\nWHERE sa.date >= DATEADD(MONTH, -3, GETDATE())\\nGROUP BY e.id, e.name\\nHAVING SUM(sa.amount) > 10000\\n```\\n\\nIn this query:\\n1. We join the Employee and Sales_amount tables on the employee_id column.\\n2. We filter the sales records to only include those from the last 3 months using the WHERE clause.\\n3. We group the results by employee id and name.\\n4. We calculate the total sales amount for each employee using the SUM function.\\n5. We filter out the employees whose total sales amount is more than 10 thousand EURO using the HAVING clause.\\n6. Finally, we select and display the names of the employees who meet the criteria.', role='assistant', function_call=None, tool_calls=None))], created=1720691285, model='gpt-3.5-turbo-0125', object='chat.completion', service_tier=None, system_fingerprint=None, usage=CompletionUsage(completion_tokens=219, prompt_tokens=91, total_tokens=310))"
            ]
          },
          "metadata": {},
          "execution_count": 6
        }
      ]
    },
    {
      "cell_type": "code",
      "source": [
        "print(response.choices[0].message.content)"
      ],
      "metadata": {
        "colab": {
          "base_uri": "https://localhost:8080/"
        },
        "id": "UVqe6dAQNpRD",
        "outputId": "fc3821cc-670f-499a-f467-ce60fd0b1f46"
      },
      "execution_count": 7,
      "outputs": [
        {
          "output_type": "stream",
          "name": "stdout",
          "text": [
            "To achieve this, we can use a query that calculates the total sales amount for each employee in the last 3 months and then filters out the employees whose total sales are more than 10 thousand EURO. Here is the SQL query:\n",
            "\n",
            "```sql\n",
            "SELECT e.name\n",
            "FROM Employee e\n",
            "JOIN Sales_amount sa ON e.id = sa.employee_id\n",
            "WHERE sa.date >= DATEADD(MONTH, -3, GETDATE())\n",
            "GROUP BY e.id, e.name\n",
            "HAVING SUM(sa.amount) > 10000\n",
            "```\n",
            "\n",
            "In this query:\n",
            "1. We join the Employee and Sales_amount tables on the employee_id column.\n",
            "2. We filter the sales records to only include those from the last 3 months using the WHERE clause.\n",
            "3. We group the results by employee id and name.\n",
            "4. We calculate the total sales amount for each employee using the SUM function.\n",
            "5. We filter out the employees whose total sales amount is more than 10 thousand EURO using the HAVING clause.\n",
            "6. Finally, we select and display the names of the employees who meet the criteria.\n"
          ]
        }
      ]
    },
    {
      "cell_type": "code",
      "source": [
        "system=\"\"\"You are a Microsoft SQL expert. Answer the questions asked to you in the most accurate way.\n",
        "Microsoft SQL tables, with their properties:\n",
        "Employee(id, name, department_id)\n",
        "Department(id, name, address)\n",
        "Sales_amount(id, employee_id, amount, date)\"\"\"\n",
        "\n",
        "user1 = \"write a query to list the names of the employees who live in Ankara\"\n",
        "\n",
        "assistant = \"\"\"SELECT Employee.name\n",
        "FROM Employee\n",
        "JOIN Department\n",
        "ON Employee.department_id = Department.id\n",
        "WHERE Department.address = 'Ankara';\"\"\"\n",
        "\n",
        "user2 = \"write a query to list the names of employees whose total sales in the last 3 months have been more than 10 thousand EURO.\""
      ],
      "metadata": {
        "id": "FpeyrF-sNrwW"
      },
      "execution_count": 8,
      "outputs": []
    },
    {
      "cell_type": "code",
      "source": [
        "response = client.chat.completions.create(\n",
        "  model=\"gpt-3.5-turbo\",\n",
        "  messages=[\n",
        "          {\"role\": \"system\", \"content\": f\"{system}\"},\n",
        "          {\"role\": \"user\", \"content\": f\"{user1}\"},\n",
        "          {\"role\": \"assistant\", \"content\": f\"{assistant}\"},\n",
        "          {\"role\": \"user\", \"content\": f\"{user2}\"}],\n",
        "  temperature=0,\n",
        "  top_p=1,\n",
        "  max_tokens=500,\n",
        "  presence_penalty=0,\n",
        "  frequency_penalty=0,\n",
        ")\n",
        "\n",
        "print(response.choices[0].message.content)"
      ],
      "metadata": {
        "colab": {
          "base_uri": "https://localhost:8080/"
        },
        "id": "PkS0YhPBOWLw",
        "outputId": "2f989e6b-76f3-4974-faaa-dc083e33d6c4"
      },
      "execution_count": 9,
      "outputs": [
        {
          "output_type": "stream",
          "name": "stdout",
          "text": [
            "SELECT Employee.name\n",
            "FROM Employee\n",
            "JOIN Sales_amount\n",
            "ON Employee.id = Sales_amount.employee_id\n",
            "WHERE Sales_amount.date >= DATEADD(month, -3, GETDATE())\n",
            "GROUP BY Employee.id, Employee.name\n",
            "HAVING SUM(Sales_amount.amount) > 10000;\n"
          ]
        }
      ]
    },
    {
      "cell_type": "code",
      "source": [
        "system=\"\"\"You are a Microsoft SQL expert. Answer the questions asked to you in the most accurate way and just return SQL query, don't explain query.\n",
        "Microsoft SQL tables, with their properties:\n",
        "Employee(id, name, department_id)\n",
        "Department(id, name, address)\n",
        "Sales_amount(id, employee_id, amount, date)\"\"\"\n",
        "\n",
        "user=\"write a query to list the names of employees whose total sales in the last 3 months have been more than 10 thousand EURO.\""
      ],
      "metadata": {
        "id": "IHGfsFwlObYU"
      },
      "execution_count": 10,
      "outputs": []
    },
    {
      "cell_type": "code",
      "source": [
        "def chat_model(system, user, model=\"gpt-3.5-turbo\", temperature=0, top_p=1, max_tokens=500, presence_penalty=0, frequency_penalty=0):\n",
        "\n",
        "  import openai\n",
        "\n",
        "  response = client.chat.completions.create(\n",
        "  model=model,\n",
        "  messages=[\n",
        "      {\"role\": \"system\", \"content\": f\"{system}\"},\n",
        "      {\"role\": \"user\", \"content\": f\"{user}\"}],\n",
        "  temperature=temperature,\n",
        "  top_p=top_p,\n",
        "  max_tokens=max_tokens,\n",
        "  presence_penalty=presence_penalty,\n",
        "  frequency_penalty=frequency_penalty)\n",
        "\n",
        "  return response.choices[0].message.content"
      ],
      "metadata": {
        "id": "NixD_SGvOn_f"
      },
      "execution_count": 11,
      "outputs": []
    },
    {
      "cell_type": "code",
      "source": [
        "from IPython.display import Markdown\n",
        "\n",
        "Markdown(chat_model(system, user))"
      ],
      "metadata": {
        "colab": {
          "base_uri": "https://localhost:8080/",
          "height": 121
        },
        "id": "AmPb33NkO3kT",
        "outputId": "b39b9f89-07cb-442d-9125-a5fa656626ae"
      },
      "execution_count": 12,
      "outputs": [
        {
          "output_type": "execute_result",
          "data": {
            "text/plain": [
              "<IPython.core.display.Markdown object>"
            ],
            "text/markdown": "```sql\nSELECT e.name\nFROM Employee e\nJOIN Sales_amount sa ON e.id = sa.employee_id\nWHERE sa.date >= DATEADD(MONTH, -3, GETDATE())\nGROUP BY e.id, e.name\nHAVING SUM(sa.amount) > 10000\n```"
          },
          "metadata": {},
          "execution_count": 12
        }
      ]
    },
    {
      "cell_type": "code",
      "source": [
        "system = \"You are a python 3 expert. Explain the codes asked to you in the most accurate way.\"\n",
        "\n",
        "user = \"\"\"Explain of what the fallowing code does\n",
        "\n",
        "def remove_common_prefix(x, prefix, ws_prefix):\n",
        "    x[\"completion\"] = x[\"completion\"].str[len(prefix) :]\n",
        "    if ws_prefix:\n",
        "        # keep the single whitespace as prefix\n",
        "        x[\"completion\"] = \" \" + x[\"completion\"]\n",
        "return x\n",
        "\"\"\""
      ],
      "metadata": {
        "id": "dN70VbizPF15"
      },
      "execution_count": 13,
      "outputs": []
    },
    {
      "cell_type": "code",
      "source": [
        "user\n"
      ],
      "metadata": {
        "colab": {
          "base_uri": "https://localhost:8080/",
          "height": 53
        },
        "id": "oI-wwDAtPZPe",
        "outputId": "612488a5-7657-422a-a26d-5ba85b411d74"
      },
      "execution_count": 14,
      "outputs": [
        {
          "output_type": "execute_result",
          "data": {
            "text/plain": [
              "'Explain of what the fallowing code does\\n\\ndef remove_common_prefix(x, prefix, ws_prefix):\\n    x[\"completion\"] = x[\"completion\"].str[len(prefix) :]\\n    if ws_prefix:\\n        # keep the single whitespace as prefix\\n        x[\"completion\"] = \" \" + x[\"completion\"]\\nreturn x\\n'"
            ],
            "application/vnd.google.colaboratory.intrinsic+json": {
              "type": "string"
            }
          },
          "metadata": {},
          "execution_count": 14
        }
      ]
    },
    {
      "cell_type": "code",
      "source": [
        "output=chat_model(system, user, model=\"gpt-4o\", max_tokens=1024)\n",
        "output"
      ],
      "metadata": {
        "colab": {
          "base_uri": "https://localhost:8080/",
          "height": 123
        },
        "id": "IRjIRCQkPcGA",
        "outputId": "bdba25bf-063a-4acf-f330-83dddd1748fe"
      },
      "execution_count": 15,
      "outputs": [
        {
          "output_type": "execute_result",
          "data": {
            "text/plain": [
              "'Certainly! Let\\'s break down the provided code step by step:\\n\\n### Function Definition\\n```python\\ndef remove_common_prefix(x, prefix, ws_prefix):\\n```\\nThis line defines a function named `remove_common_prefix` that takes three parameters:\\n- `x`: This is expected to be a dictionary-like object, likely a pandas DataFrame or a dictionary containing a key `\"completion\"` whose value is a string or a pandas Series of strings.\\n- `prefix`: This is a string that represents the common prefix to be removed from the `\"completion\"` field.\\n- `ws_prefix`: This is a boolean flag that indicates whether a single whitespace should be added as a prefix after removing the common prefix.\\n\\n### Removing the Common Prefix\\n```python\\nx[\"completion\"] = x[\"completion\"].str[len(prefix) :]\\n```\\nThis line modifies the `\"completion\"` field of `x` by removing the specified `prefix`. The `str[len(prefix):]` part slices the string starting from the length of the `prefix` to the end of the string. This effectively removes the prefix from the beginning of each string in the `\"completion\"` field.\\n\\n### Adding a Whitespace Prefix (if needed)\\n```python\\nif ws_prefix:\\n    # keep the single whitespace as prefix\\n    x[\"completion\"] = \" \" + x[\"completion\"]\\n```\\nThis conditional block checks if `ws_prefix` is `True`. If it is, it prepends a single whitespace character to the `\"completion\"` field. This ensures that even after removing the common prefix, the resulting string starts with a whitespace.\\n\\n### Return Statement\\n```python\\nreturn x\\n```\\nFinally, the function returns the modified `x`.\\n\\n### Summary\\nThe function `remove_common_prefix` takes a dictionary-like object `x` with a key `\"completion\"`, removes a specified `prefix` from the beginning of the `\"completion\"` string(s), and optionally adds a single whitespace at the beginning of the resulting string(s) if `ws_prefix` is `True`.\\n\\n### Example Usage\\nHere\\'s an example to illustrate how this function might be used:\\n\\n```python\\nimport pandas as pd\\n\\n# Example DataFrame\\ndata = pd.DataFrame({\\n    \"completion\": [\"prefix_hello\", \"prefix_world\", \"prefix_python\"]\\n})\\n\\n# Remove the common prefix \"prefix_\" and add a whitespace prefix\\nresult = remove_common_prefix(data, \"prefix_\", True)\\n\\nprint(result)\\n```\\n\\nOutput:\\n```\\n  completion\\n0    hello\\n1    world\\n2    python\\n```\\n\\nIn this example, the common prefix `\"prefix_\"` is removed from each string in the `\"completion\"` column, and a single whitespace is added at the beginning of each resulting string.'"
            ],
            "application/vnd.google.colaboratory.intrinsic+json": {
              "type": "string"
            }
          },
          "metadata": {},
          "execution_count": 15
        }
      ]
    },
    {
      "cell_type": "code",
      "source": [
        "system = \"You are an economics professor and you give advices to students in their bacholar degree\"\n",
        "\n",
        "user = \"\"\"How can I become a good economist?\"\"\""
      ],
      "metadata": {
        "id": "hAUNIMeOP7uS"
      },
      "execution_count": 18,
      "outputs": []
    },
    {
      "cell_type": "code",
      "source": [
        "user"
      ],
      "metadata": {
        "colab": {
          "base_uri": "https://localhost:8080/",
          "height": 36
        },
        "id": "t1X8sdy8QdAZ",
        "outputId": "c20f3786-ad4b-4543-fcfa-39cc4d6771eb"
      },
      "execution_count": 19,
      "outputs": [
        {
          "output_type": "execute_result",
          "data": {
            "text/plain": [
              "'How can I become a good economist?'"
            ],
            "application/vnd.google.colaboratory.intrinsic+json": {
              "type": "string"
            }
          },
          "metadata": {},
          "execution_count": 19
        }
      ]
    },
    {
      "cell_type": "code",
      "source": [
        "output1 = chat_model(system, user, model= \"gpt-4o\", max_tokens= 512)\n",
        "output1"
      ],
      "metadata": {
        "colab": {
          "base_uri": "https://localhost:8080/",
          "height": 123
        },
        "id": "Yrj4rdo8QfD0",
        "outputId": "53a618e7-7698-4c9a-f384-a5277555ca3d"
      },
      "execution_count": 21,
      "outputs": [
        {
          "output_type": "execute_result",
          "data": {
            "text/plain": [
              "\"Becoming a good economist requires a combination of formal education, practical experience, and the development of certain skills and habits. Here are some steps to help you on your journey:\\n\\n### 1. **Solid Educational Foundation**\\n- **Undergraduate Degree**: Start with a bachelor's degree in economics or a related field such as mathematics, statistics, or finance. Focus on core subjects like microeconomics, macroeconomics, econometrics, and economic theory.\\n- **Advanced Degrees**: Consider pursuing a master's or Ph.D. in economics if you are interested in advanced research, academic positions, or specialized roles.\\n\\n### 2. **Develop Quantitative Skills**\\n- **Mathematics and Statistics**: Proficiency in calculus, linear algebra, and statistical methods is crucial. These skills are essential for understanding and conducting economic analysis.\\n- **Econometrics**: Learn econometric techniques to analyze data and test economic theories. Software like Stata, R, or Python can be very useful.\\n\\n### 3. **Stay Informed**\\n- **Read Widely**: Keep up with current economic research by reading academic journals, working papers, and books. Publications like the American Economic Review, Journal of Economic Perspectives, and The Economist can be valuable resources.\\n- **Follow News**: Stay updated on global economic events and trends by following reputable news sources and economic blogs.\\n\\n### 4. **Gain Practical Experience**\\n- **Internships**: Seek internships or part-time jobs in government agencies, financial institutions, think tanks, or research organizations.\\n- **Research Projects**: Participate in research projects during your studies. This can provide hands-on experience and help you apply theoretical knowledge to real-world problems.\\n\\n### 5. **Develop Analytical and Critical Thinking Skills**\\n- **Problem-Solving**: Work on developing strong problem-solving skills. Practice breaking down complex issues into manageable parts and analyzing them systematically.\\n- **Critical Thinking**: Cultivate the ability to critically evaluate arguments, data, and methodologies. Question assumptions and consider alternative perspectives.\\n\\n### 6. **Communication Skills**\\n- **Writing**: Develop strong writing skills to clearly and concisely communicate your ideas and findings. Practice writing essays, reports, and research papers.\\n- **Presentations**: Hone your ability to present economic concepts and research findings effectively. This includes creating clear visual aids and being able to explain complex ideas in an accessible manner.\\n\\n### 7. **Networking**\\n- **Professional Associations**: Join professional organizations such as the American Economic Association (AEA) or regional economic associations\""
            ],
            "application/vnd.google.colaboratory.intrinsic+json": {
              "type": "string"
            }
          },
          "metadata": {},
          "execution_count": 21
        }
      ]
    },
    {
      "cell_type": "code",
      "source": [
        "Markdown(output1)"
      ],
      "metadata": {
        "colab": {
          "base_uri": "https://localhost:8080/",
          "height": 727
        },
        "id": "9dIfwr3lQyFt",
        "outputId": "e1856576-bfce-47c2-95b4-87923d58ee85"
      },
      "execution_count": 22,
      "outputs": [
        {
          "output_type": "execute_result",
          "data": {
            "text/plain": [
              "<IPython.core.display.Markdown object>"
            ],
            "text/markdown": "Becoming a good economist requires a combination of formal education, practical experience, and the development of certain skills and habits. Here are some steps to help you on your journey:\n\n### 1. **Solid Educational Foundation**\n- **Undergraduate Degree**: Start with a bachelor's degree in economics or a related field such as mathematics, statistics, or finance. Focus on core subjects like microeconomics, macroeconomics, econometrics, and economic theory.\n- **Advanced Degrees**: Consider pursuing a master's or Ph.D. in economics if you are interested in advanced research, academic positions, or specialized roles.\n\n### 2. **Develop Quantitative Skills**\n- **Mathematics and Statistics**: Proficiency in calculus, linear algebra, and statistical methods is crucial. These skills are essential for understanding and conducting economic analysis.\n- **Econometrics**: Learn econometric techniques to analyze data and test economic theories. Software like Stata, R, or Python can be very useful.\n\n### 3. **Stay Informed**\n- **Read Widely**: Keep up with current economic research by reading academic journals, working papers, and books. Publications like the American Economic Review, Journal of Economic Perspectives, and The Economist can be valuable resources.\n- **Follow News**: Stay updated on global economic events and trends by following reputable news sources and economic blogs.\n\n### 4. **Gain Practical Experience**\n- **Internships**: Seek internships or part-time jobs in government agencies, financial institutions, think tanks, or research organizations.\n- **Research Projects**: Participate in research projects during your studies. This can provide hands-on experience and help you apply theoretical knowledge to real-world problems.\n\n### 5. **Develop Analytical and Critical Thinking Skills**\n- **Problem-Solving**: Work on developing strong problem-solving skills. Practice breaking down complex issues into manageable parts and analyzing them systematically.\n- **Critical Thinking**: Cultivate the ability to critically evaluate arguments, data, and methodologies. Question assumptions and consider alternative perspectives.\n\n### 6. **Communication Skills**\n- **Writing**: Develop strong writing skills to clearly and concisely communicate your ideas and findings. Practice writing essays, reports, and research papers.\n- **Presentations**: Hone your ability to present economic concepts and research findings effectively. This includes creating clear visual aids and being able to explain complex ideas in an accessible manner.\n\n### 7. **Networking**\n- **Professional Associations**: Join professional organizations such as the American Economic Association (AEA) or regional economic associations"
          },
          "metadata": {},
          "execution_count": 22
        }
      ]
    },
    {
      "cell_type": "code",
      "source": [
        "Markdown(output)"
      ],
      "metadata": {
        "colab": {
          "base_uri": "https://localhost:8080/",
          "height": 990
        },
        "id": "EZklG9TGPpa1",
        "outputId": "88eb5823-8b64-44b6-cd80-8aab0c2213ee"
      },
      "execution_count": 16,
      "outputs": [
        {
          "output_type": "execute_result",
          "data": {
            "text/plain": [
              "<IPython.core.display.Markdown object>"
            ],
            "text/markdown": "Certainly! Let's break down the provided code step by step:\n\n### Function Definition\n```python\ndef remove_common_prefix(x, prefix, ws_prefix):\n```\nThis line defines a function named `remove_common_prefix` that takes three parameters:\n- `x`: This is expected to be a dictionary-like object, likely a pandas DataFrame or a dictionary containing a key `\"completion\"` whose value is a string or a pandas Series of strings.\n- `prefix`: This is a string that represents the common prefix to be removed from the `\"completion\"` field.\n- `ws_prefix`: This is a boolean flag that indicates whether a single whitespace should be added as a prefix after removing the common prefix.\n\n### Removing the Common Prefix\n```python\nx[\"completion\"] = x[\"completion\"].str[len(prefix) :]\n```\nThis line modifies the `\"completion\"` field of `x` by removing the specified `prefix`. The `str[len(prefix):]` part slices the string starting from the length of the `prefix` to the end of the string. This effectively removes the prefix from the beginning of each string in the `\"completion\"` field.\n\n### Adding a Whitespace Prefix (if needed)\n```python\nif ws_prefix:\n    # keep the single whitespace as prefix\n    x[\"completion\"] = \" \" + x[\"completion\"]\n```\nThis conditional block checks if `ws_prefix` is `True`. If it is, it prepends a single whitespace character to the `\"completion\"` field. This ensures that even after removing the common prefix, the resulting string starts with a whitespace.\n\n### Return Statement\n```python\nreturn x\n```\nFinally, the function returns the modified `x`.\n\n### Summary\nThe function `remove_common_prefix` takes a dictionary-like object `x` with a key `\"completion\"`, removes a specified `prefix` from the beginning of the `\"completion\"` string(s), and optionally adds a single whitespace at the beginning of the resulting string(s) if `ws_prefix` is `True`.\n\n### Example Usage\nHere's an example to illustrate how this function might be used:\n\n```python\nimport pandas as pd\n\n# Example DataFrame\ndata = pd.DataFrame({\n    \"completion\": [\"prefix_hello\", \"prefix_world\", \"prefix_python\"]\n})\n\n# Remove the common prefix \"prefix_\" and add a whitespace prefix\nresult = remove_common_prefix(data, \"prefix_\", True)\n\nprint(result)\n```\n\nOutput:\n```\n  completion\n0    hello\n1    world\n2    python\n```\n\nIn this example, the common prefix `\"prefix_\"` is removed from each string in the `\"completion\"` column, and a single whitespace is added at the beginning of each resulting string."
          },
          "metadata": {},
          "execution_count": 16
        }
      ]
    },
    {
      "cell_type": "code",
      "source": [
        "system=\"You will be provided with a piece of Python code, and your task is to find and fix bugs in it.\"\n",
        "\n",
        "user=\"\"\"import Random\n",
        "a = random.randint(1,12)\n",
        "b = random.randint(1,12)\n",
        "for i in range(10):\n",
        "    question = \"What is \"+a+\" x \"+b+\"? \"\n",
        "    answer = input(question)\n",
        "    if answer = a*b\n",
        "        print (Well done!)\n",
        "    else:\n",
        "        print(\"No.\")\"\"\""
      ],
      "metadata": {
        "id": "xr-skO0CPxNX"
      },
      "execution_count": 23,
      "outputs": []
    },
    {
      "cell_type": "code",
      "source": [
        "Markdown(chat_model(system, user, model=\"gpt-4o\", max_tokens=1024))"
      ],
      "metadata": {
        "colab": {
          "base_uri": "https://localhost:8080/",
          "height": 416
        },
        "id": "qRL8MHrKT7Ja",
        "outputId": "c134d4f2-731e-4546-b143-02da4b71fa67"
      },
      "execution_count": 24,
      "outputs": [
        {
          "output_type": "execute_result",
          "data": {
            "text/plain": [
              "<IPython.core.display.Markdown object>"
            ],
            "text/markdown": "Sure, I can help you with that. Here are the issues in the code:\n\n1. The `Random` module should be imported as `random` (lowercase).\n2. The variables `a` and `b` should be converted to strings when concatenating them with other strings.\n3. The `input` function returns a string, so the answer should be converted to an integer before comparison.\n4. The comparison operator `=` should be `==`.\n5. The `print` statement for \"Well done!\" should be enclosed in quotes.\n\nHere is the corrected code:\n\n```python\nimport random\n\na = random.randint(1, 12)\nb = random.randint(1, 12)\n\nfor i in range(10):\n    question = \"What is \" + str(a) + \" x \" + str(b) + \"? \"\n    answer = int(input(question))\n    if answer == a * b:\n        print(\"Well done!\")\n    else:\n        print(\"No.\")\n```\n\nThis should work correctly now."
          },
          "metadata": {},
          "execution_count": 24
        }
      ]
    },
    {
      "cell_type": "code",
      "source": [
        "system = \"You will be provided with statements, and your task is to convert them to standard English.\"\n",
        "user = \"Th techer gve the studnts a test yestday and also annonced the relts toay.\"\n",
        "\n",
        "chat_model(system, user, max_tokens=256)"
      ],
      "metadata": {
        "colab": {
          "base_uri": "https://localhost:8080/",
          "height": 36
        },
        "id": "QI_a7xxdUO9v",
        "outputId": "af41ffbb-2f8c-46ff-e418-be7f15b36398"
      },
      "execution_count": 25,
      "outputs": [
        {
          "output_type": "execute_result",
          "data": {
            "text/plain": [
              "'The teacher gave the students a test yesterday and also announced the results today.'"
            ],
            "application/vnd.google.colaboratory.intrinsic+json": {
              "type": "string"
            }
          },
          "metadata": {},
          "execution_count": 25
        }
      ]
    },
    {
      "cell_type": "code",
      "source": [
        "system=\"Summarize content you are provided with for a second-grade student.\"\n",
        "\n",
        "user=\"Jupiter is the fifth planet from the Sun and the largest in the Solar System. It is a gas giant with a mass one-thousandth \\\n",
        "that of the Sun, but two-and-a-half times that of all the other planets in the Solar System combined. Jupiter is one of the brightest \\\n",
        "objects visible to the naked eye in the night sky, and has been known to ancient civilizations since before recorded history. It is named \\\n",
        "after the Roman god Jupiter.[19] When viewed from Earth, Jupiter can be bright enough for its reflected light to cast visible shadows,[20] \\\n",
        "and is on average the third-brightest natural object in the night sky after the Moon and Venus.\""
      ],
      "metadata": {
        "id": "4prmORUnUfxR"
      },
      "execution_count": 26,
      "outputs": []
    },
    {
      "cell_type": "code",
      "source": [
        "Markdown(chat_model(system, user, max_tokens=1024))"
      ],
      "metadata": {
        "colab": {
          "base_uri": "https://localhost:8080/",
          "height": 81
        },
        "id": "On4e9ym3UqH_",
        "outputId": "6b045531-f902-448c-c20c-5de2ebd53233"
      },
      "execution_count": 27,
      "outputs": [
        {
          "output_type": "execute_result",
          "data": {
            "text/plain": [
              "<IPython.core.display.Markdown object>"
            ],
            "text/markdown": "Jupiter is a big planet in our Solar System, and it is the fifth planet from the Sun. It is the largest planet and is made mostly of gas. Jupiter is very bright in the night sky and has been known to people for a long time. It is named after a Roman god. When we look at Jupiter from Earth, it can be so bright that it can even cast shadows."
          },
          "metadata": {},
          "execution_count": 27
        }
      ]
    },
    {
      "cell_type": "code",
      "source": [],
      "metadata": {
        "id": "m0hBFVe1U7wB"
      },
      "execution_count": null,
      "outputs": []
    }
  ]
}